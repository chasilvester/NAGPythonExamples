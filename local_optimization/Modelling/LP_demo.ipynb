{
 "cells": [
  {
   "cell_type": "markdown",
   "metadata": {},
   "source": [
    "# Installing the NAG library and running this notebook\n",
    "\n",
    "This notebook depends on the NAG library for Python to run. Please read the instructions in the [Readme.md](https://github.com/numericalalgorithmsgroup/NAGPythonExamples/blob/master/local_optimization/Readme.md#install) file to download, install and obtain a licence for the library.\n",
    "\n",
    "Instruction on how to run the notebook can be found [here](https://github.com/numericalalgorithmsgroup/NAGPythonExamples/blob/master/local_optimization/Readme.md#jupyter)."
   ]
  },
  {
   "cell_type": "markdown",
   "metadata": {},
   "source": [
    "# New optimization interfaces: LP"
   ]
  },
  {
   "cell_type": "code",
   "execution_count": 1,
   "metadata": {},
   "outputs": [],
   "source": [
    "# imports\n",
    "from naginterfaces.library import opt\n",
    "from naginterfaces.base import utils\n",
    "import numpy as np"
   ]
  },
  {
   "cell_type": "markdown",
   "metadata": {},
   "source": [
    "### Step by step definition of the problem\n",
    "We want to define the Linear Programming problem:\n",
    "<center>\n",
    "$$\n",
    "\\min c^Tx\\\\\n",
    "l_A \\leq Ax \\leq u_A\\\\\n",
    "x \\geq 0\n",
    "$$\n",
    "</center>\n",
    "Every model information is passed to an internal NAG structure via a handle through different (but simple) function calls. Array arguments are compatible with common Python data structures (tuples, lists, numpy arrays)"
   ]
  },
  {
   "cell_type": "markdown",
   "metadata": {},
   "source": [
    "1. Start by initializing the handle: the problem has 5 variables"
   ]
  },
  {
   "cell_type": "code",
   "execution_count": 2,
   "metadata": {},
   "outputs": [],
   "source": [
    "# Create a handle for the problem:\n",
    "nvar = 5\n",
    "handle = opt.handle_init(nvar)"
   ]
  },
  {
   "cell_type": "markdown",
   "metadata": {},
   "source": [
    "2. Define simple bounds on the variables: $x \\geq 0$"
   ]
  },
  {
   "cell_type": "code",
   "execution_count": 3,
   "metadata": {},
   "outputs": [],
   "source": [
    "# define the variable bounds using numpy arrays:\n",
    "bigbnd = 1.0e20\n",
    "blx = np.empty(nvar)\n",
    "bux = np.empty(nvar)\n",
    "blx.fill(0.0)\n",
    "bux.fill(bigbnd)\n",
    "opt.handle_set_simplebounds(handle, bl=blx, bu=bux)"
   ]
  },
  {
   "cell_type": "markdown",
   "metadata": {},
   "source": [
    "3. Define a linear objective function: $f(x) = x_1 + x_2 + x_3 + x_4 + x_5$ "
   ]
  },
  {
   "cell_type": "code",
   "execution_count": 4,
   "metadata": {},
   "outputs": [],
   "source": [
    "# define a linear objective using a python tuple \n",
    "c = (1.0, 1.0, 1.0, 1.0, 1.0)\n",
    "opt.handle_set_linobj(handle, cvec=c)"
   ]
  },
  {
   "cell_type": "markdown",
   "metadata": {},
   "source": [
    "4. Define the linear constraints: $-1 \\leq Ax \\leq 1$"
   ]
  },
  {
   "cell_type": "code",
   "execution_count": 5,
   "metadata": {},
   "outputs": [],
   "source": [
    "# define 4 sparse linear constraints\n",
    "nclin = 4\n",
    "bla = (-1.0, -1.0, -1.0, -1.0)\n",
    "bua = (1.0, 1.0, 1.0, 1.0)\n",
    "nnz = 12\n",
    "icola = [1, 2, 2, 3, 3, 3, 4, 4, 4, 4, 5, 5]\n",
    "irowa = [1, 1, 2, 1, 2, 3, 1, 2, 3, 4, 2, 4]\n",
    "a = np.array([1., 2., 3., 4., 5., 6., 7., 8., 9., 10., 11., 12.])\n",
    "idlc = 0\n",
    "k = opt.handle_set_linconstr(handle, bl=bla, bu=bua, irowb=irowa,\n",
    "                             icolb=icola, b=a, idlc=idlc)"
   ]
  },
  {
   "cell_type": "markdown",
   "metadata": {},
   "source": [
    "Optional parameter can be set to control the solver"
   ]
  },
  {
   "cell_type": "code",
   "execution_count": 6,
   "metadata": {},
   "outputs": [],
   "source": [
    "# Options setting\n",
    "# Set the level of output  details \n",
    "opt.handle_opt_set(handle, 'Print Level = 2')\n",
    "# Deactivate the presolver to force the IPM to perform a few iterations\n",
    "# (problem is solved by the presolver otherwise)\n",
    "opt.handle_opt_set(handle, 'LP Presolve = No')\n",
    "# tighten the convergence detection\n",
    "opt.handle_opt_set(handle, 'LPIPM Stop Tolerance = 1.0e-12')"
   ]
  },
  {
   "cell_type": "markdown",
   "metadata": {},
   "source": [
    "The handle is now ready to be passed to the solver"
   ]
  },
  {
   "cell_type": "code",
   "execution_count": 7,
   "metadata": {},
   "outputs": [
    {
     "name": "stdout",
     "output_type": "stream",
     "text": [
      "\n",
      " ----------------------------------------------\n",
      "  E04MT, Interior point method for LP problems\n",
      " ----------------------------------------------\n",
      "\n",
      " Begin of Options\n",
      "     Print File                    =                   9     * d\n",
      "     Print Level                   =                   2     * U\n",
      "     Print Options                 =                 Yes     * d\n",
      "     Print Solution                =                  No     * d\n",
      "     Monitoring File               =                  -1     * d\n",
      "     Monitoring Level              =                   4     * d\n",
      "     Lpipm Monitor Frequency       =                   0     * d\n",
      "\n",
      "     Infinite Bound Size           =         1.00000E+20     * d\n",
      "     Task                          =            Minimize     * d\n",
      "     Stats Time                    =                  No     * d\n",
      "\n",
      "     Lp Presolve                   =                  No     * U\n",
      "     Lpipm Algorithm               =         Primal-dual     * d\n",
      "     Lpipm Centrality Correctors   =                   6     * d\n",
      "     Lpipm Iteration Limit         =                 100     * d\n",
      "     Lpipm Max Iterative Refinement=                   5     * d\n",
      "     Lpipm Scaling                 =          Arithmetic     * d\n",
      "     Lpipm Stop Tolerance          =         1.00000E-12     * U\n",
      "     Lpipm Stop Tolerance 2        =         2.67452E-10     * d\n",
      "     Lpipm System Formulation      =                Auto     * d\n",
      " End of Options\n",
      "\n",
      " Problem Statistics\n",
      "   No of variables                  5\n",
      "     free (unconstrained)           0\n",
      "     bounded                        5\n",
      "   No of lin. constraints           4\n",
      "     nonzeroes                     12\n",
      "   Objective function          Linear\n",
      "\n",
      " Presolved Problem Measures\n",
      "   No of variables                  9\n",
      "     free (unconstrained)           0\n",
      "   No of lin. constraints           4\n",
      "     nonzeroes                     16\n",
      "\n",
      "\n",
      " ------------------------------------------------------------------------------\n",
      "  it|    pobj    |    dobj    |  optim  |  feas   |  compl  |   mu   | mcc | I\n",
      " ------------------------------------------------------------------------------\n",
      "   0  2.95739E-01 -1.53220E-17  2.38E+00  1.58E-01  2.38E-01  2.9E-01\n",
      "   1  3.82786E-02 -2.79688E-01  3.71E-02  6.98E-17  1.91E-02  2.0E-02   0\n",
      "   2  1.00015E-02 -5.05058E-03  1.88E-03  1.29E-14  9.30E-04  9.4E-04   0\n",
      "   3  1.78344E-05 -2.39954E-05  1.83E-16  1.48E-15  2.19E-06  2.2E-06   0\n",
      "   4  8.91734E-09 -1.19978E-08  9.23E-17  2.78E-16  1.09E-09  1.1E-09   0\n",
      "   5  4.45867E-12 -5.99890E-12  9.02E-17  5.83E-17  5.46E-13  5.5E-13   0\n",
      " ------------------------------------------------------------------------------\n",
      " Status: converged, an optimal solution found\n",
      " ------------------------------------------------------------------------------\n",
      " Final primal objective value         4.458673E-12\n",
      " Final dual objective value          -5.998898E-12\n",
      " Absolute primal infeasibility        2.543841E-16\n",
      " Relative primal infeasibility        5.826594E-17\n",
      " Absolute dual infeasibility          1.010318E-16\n",
      " Relative dual infeasibility          9.021771E-17\n",
      " Absolute complementarity gap         2.464120E-12\n",
      " Relative complementarity gap         5.464522E-13\n",
      " Iterations                                      5\n"
     ]
    }
   ],
   "source": [
    "# Solve LP\n",
    "x = np.empty(nvar)\n",
    "iom = utils.FileObjManager(locus_in_output=False)\n",
    "x = opt.handle_solve_lp_ipm(handle, x=x, u=None, monit=None, io_manager=iom)"
   ]
  },
  {
   "cell_type": "markdown",
   "metadata": {},
   "source": [
    "Delete cleanly the handle data when finished:"
   ]
  },
  {
   "cell_type": "code",
   "execution_count": 8,
   "metadata": {},
   "outputs": [],
   "source": [
    "# destroy the handle\n",
    "opt.handle_free(handle)"
   ]
  }
 ],
 "metadata": {
  "kernelspec": {
   "display_name": "Python 3 (ipykernel)",
   "language": "python",
   "name": "python3"
  },
  "language_info": {
   "codemirror_mode": {
    "name": "ipython",
    "version": 3
   },
   "file_extension": ".py",
   "mimetype": "text/x-python",
   "name": "python",
   "nbconvert_exporter": "python",
   "pygments_lexer": "ipython3",
   "version": "3.8.10"
  },
  "latex_envs": {
   "LaTeX_envs_menu_present": true,
   "autoclose": false,
   "autocomplete": true,
   "bibliofile": "biblio.bib",
   "cite_by": "apalike",
   "current_citInitial": 1,
   "eqLabelWithNumbers": true,
   "eqNumInitial": 1,
   "hotkeys": {
    "equation": "Ctrl-E",
    "itemize": "Ctrl-I"
   },
   "labels_anchors": false,
   "latex_user_defs": false,
   "report_style_numbering": false,
   "user_envs_cfg": false
  }
 },
 "nbformat": 4,
 "nbformat_minor": 2
}
