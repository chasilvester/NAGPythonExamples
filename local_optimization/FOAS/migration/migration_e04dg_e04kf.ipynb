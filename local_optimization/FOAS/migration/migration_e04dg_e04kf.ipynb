{
 "cells": [
  {
   "cell_type": "markdown",
   "metadata": {},
   "source": [
    "# Migrating from `uncon_conjgrd_comp` to `handle_solve_bounds_foas`\n",
    "\n",
    "This notebook illustrates the steps required to upgrade from the solver `uncon_conjgrd_comp` (`E04DG`) to `handle_solve_bounds_foas` (`E04KF`) introduced at Mark 27 of the NAG Library.\n",
    "\n",
    "From the usage perspective, the main difference between the solvers is the user call-backs,\n",
    "`uncon_conjgrd_comp` has a single user call-back that can return *objective \n",
    "function* and *gradient* evaluations, while `handle_solve_bounds_foas` has two separate user call-backs, \n",
    "one for the *objective funtion* and one for the *objective gradient*.\n",
    "\n",
    "In this notebook the 2d Rosenbrock problem is solved with both solvers and illustrates the changes necessary for the migration to `handle_solve_bounds_foas`. The solution to the problem is (1, 1)."
   ]
  },
  {
   "cell_type": "code",
   "execution_count": 1,
   "metadata": {},
   "outputs": [],
   "source": [
    "# NAG Copyright 2020.\n",
    "from naginterfaces.base import utils\n",
    "from naginterfaces.library import opt\n",
    "import numpy as np"
   ]
  },
  {
   "cell_type": "code",
   "execution_count": 2,
   "metadata": {},
   "outputs": [],
   "source": [
    "# Define E04DG user call-back\n",
    "def objfun_e04dg(mode, x, _nstate, _data=None):\n",
    "    objf = (1. - x[0])**2 + 100.*(x[1] - x[0]**2)**2\n",
    "    if mode == 2:\n",
    "        fdx = [\n",
    "            2.*x[0] - 400.*x[0]*(x[1]-x[0]**2) - 2.,\n",
    "            200.*(x[1]-x[0]**2),\n",
    "        ]\n",
    "        return objf, fdx\n",
    "    return objf, np.zeros(len(x))"
   ]
  },
  {
   "cell_type": "code",
   "execution_count": 3,
   "metadata": {},
   "outputs": [],
   "source": [
    "# Define user call-backs for E04KF\n",
    "def objfun_e04kf(x, inform, _data=None): \n",
    "    \"\"\"Return the objective function value\"\"\"\n",
    "    objf = (1. - x[0])**2 + 100.*(x[1] - x[0]**2)**2\n",
    "    return objf, inform\n",
    "\n",
    "def objgrd_e04kf(x, fdx, inform, _data=None):\n",
    "    \"\"\"The objective's gradient. Note that fdx has to be updated IN-PLACE\"\"\"\n",
    "    fdx[:] = [\n",
    "        2.*x[0] - 400.*x[0]*(x[1]-x[0]**2) - 2.,\n",
    "        200.*(x[1]-x[0]**2),\n",
    "    ]\n",
    "    return inform"
   ]
  },
  {
   "cell_type": "code",
   "execution_count": 4,
   "metadata": {},
   "outputs": [],
   "source": [
    "# The initial guess\n",
    "x = [-1.5, 1.9]\n",
    "\n",
    "# Use an explicit I/O manager for abbreviated iteration output\n",
    "iom = utils.FileObjManager(locus_in_output=False)"
   ]
  },
  {
   "cell_type": "markdown",
   "metadata": {},
   "source": [
    "## Solve the problem with `uncon_conjgrd_comp`"
   ]
  },
  {
   "cell_type": "code",
   "execution_count": 5,
   "metadata": {},
   "outputs": [
    {
     "name": "stderr",
     "output_type": "stream",
     "text": [
      "<ipython-input-5-a8bdc418615c>:2: NagDeprecatedWarning: (NAG Python function naginterfaces.library.opt.uncon_conjgrd_comp)\n",
      "This function is deprecated.\n",
      "The following advice is given for making a replacement:\n",
      "Please use handle_solve_bounds_foas instead.\n",
      "See also https://www.nag.com/numeric/py/nagdoc_latest/replace.html\n",
      "  slv = opt.uncon_conjgrd_comp(objfun_e04dg, x, comm, io_manager=iom)\n"
     ]
    },
    {
     "name": "stdout",
     "output_type": "stream",
     "text": [
      "Solution: \n",
      " [1.00000676 1.00001354]\n"
     ]
    }
   ],
   "source": [
    "comm = opt.nlp1_init('uncon_conjgrd_comp')\n",
    "slv = opt.uncon_conjgrd_comp(objfun_e04dg, x, comm, io_manager=iom)\n",
    "print('Solution: \\n', slv.x)"
   ]
  },
  {
   "cell_type": "markdown",
   "metadata": {},
   "source": [
    "## Now solve with the new solver `handle_solve_bounds_foas`"
   ]
  },
  {
   "cell_type": "code",
   "execution_count": 6,
   "metadata": {},
   "outputs": [
    {
     "name": "stdout",
     "output_type": "stream",
     "text": [
      " E04KF, First order method for bound-constrained problems\n",
      "\n",
      " Status: converged, an optimal solution was found\n",
      " Value of the objective             2.12807E-15\n",
      " Norm of gradient                   3.67342E-08\n",
      "\n",
      " Primal variables:\n",
      "   idx   Lower bound       Value       Upper bound\n",
      "     1       -inf        1.00000E+00        inf\n",
      "     2       -inf        1.00000E+00        inf\n"
     ]
    }
   ],
   "source": [
    "# Create an empty handle for the problem\n",
    "nvar = len(x)\n",
    "handle = opt.handle_init(nvar)\n",
    "\n",
    "# Define the nonlinear objective in the handle\n",
    "# Setup a gradient vector of length nvar\n",
    "opt.handle_set_nlnobj(handle, idxfd=list(range(1, nvar+1)))\n",
    "\n",
    "# Set some algorithmic options\n",
    "for option in [\n",
    "        'Print Options = No',      # print Options?\n",
    "        'Print Solution = Yes',    # print on the screen the solution point X\n",
    "        'Print Level = 1',         # print details of each iteration (screen)\n",
    "]:\n",
    "    opt.handle_opt_set(handle, option)\n",
    "    \n",
    "# Solve the problem and print the solution\n",
    "opt.handle_solve_bounds_foas(handle, x, objfun=objfun_e04kf, objgrd=objgrd_e04kf,\n",
    "        io_manager=iom)\n",
    "\n",
    "# Destroy the handle and free allocated memory\n",
    "opt.handle_free(handle)"
   ]
  }
 ],
 "metadata": {
  "kernelspec": {
   "display_name": "Python 3",
   "language": "python",
   "name": "python3"
  },
  "language_info": {
   "codemirror_mode": {
    "name": "ipython",
    "version": 3
   },
   "file_extension": ".py",
   "mimetype": "text/x-python",
   "name": "python",
   "nbconvert_exporter": "python",
   "pygments_lexer": "ipython3",
   "version": "3.8.5"
  },
  "latex_envs": {
   "LaTeX_envs_menu_present": true,
   "autoclose": false,
   "autocomplete": true,
   "bibliofile": "biblio.bib",
   "cite_by": "apalike",
   "current_citInitial": 1,
   "eqLabelWithNumbers": true,
   "eqNumInitial": 1,
   "hotkeys": {
    "equation": "Ctrl-E",
    "itemize": "Ctrl-I"
   },
   "labels_anchors": false,
   "latex_user_defs": false,
   "report_style_numbering": false,
   "user_envs_cfg": false
  }
 },
 "nbformat": 4,
 "nbformat_minor": 4
}
