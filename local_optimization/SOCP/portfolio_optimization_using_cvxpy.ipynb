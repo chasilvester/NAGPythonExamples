{
 "cells": [
  {
   "cell_type": "markdown",
   "id": "9a8d9072",
   "metadata": {},
   "source": [
    "# Installing the NAG Library and running this notebook\n",
    "To run this notebook, you will need to install the NAG Library for Python (Mark 29.3 or newer) and a license key. You can find the software and have a license key (trials are available) from our website here: [Getting Started with the NAG Library](https://www.nag.com/content/getting-started-nag-library?lang=py&os=linux)\n",
    "\n",
    "We are solving a classic portfolio optimization problem using the NAG Library integration in CVXPY. It can be formulated in the following way:\n",
    "\n",
    "\\begin{equation*}\n",
    "    \\begin{aligned}\n",
    "        &\\min_{x \\in \\mathbb{R}^n} &&\\frac{1}{2} x^T Q_0 x + r^T_0 x\n",
    "        \\\\\n",
    "        &\\textrm{subject to } &&\\frac{1}{2} x^T Q_1 x + r^T_1 x \\leq 0,\n",
    "        \\\\\n",
    "        & &&e^Tx = 1,\n",
    "        \\\\\n",
    "        & && x \\geq 0,\n",
    "    \\end{aligned}\n",
    "\\end{equation*}\n",
    "where $e$ refers to the vector of all ones."
   ]
  },
  {
   "cell_type": "code",
   "execution_count": 1,
   "id": "dcbfd044",
   "metadata": {},
   "outputs": [],
   "source": [
    "# Import modules\n",
    "from cvxpy import Minimize, Problem, Variable, quad_form, sum, atoms, OPTIMAL, NAG\n",
    "import numpy as np\n",
    "import naginterfaces"
   ]
  },
  {
   "cell_type": "code",
   "execution_count": 2,
   "id": "4d4bec67-2af9-4d14-932c-ac616f223be8",
   "metadata": {},
   "outputs": [
    {
     "data": {
      "text/plain": [
       "-0.17415932352686342"
      ]
     },
     "execution_count": 2,
     "metadata": {},
     "output_type": "execute_result"
    }
   ],
   "source": [
    "# Define number of assets\n",
    "n = 500 \n",
    "\n",
    "# Generate random data\n",
    "np.random.seed(2)\n",
    "r0 = np.matrix(np.random.randn(n, 1))\n",
    "r1 = np.matrix(np.random.randn(n, 1))\n",
    "q0 = np.matrix(np.random.randn(n, n))\n",
    "q0 = q0.T * q0\n",
    "q1 = np.matrix(np.random.randn(n, n))\n",
    "q1 = q1.T * q1\n",
    "\n",
    "# Skip psd check due to issues with ARPACK\n",
    "q0 = atoms.affine.wraps.psd_wrap(q0)\n",
    "q1 = atoms.affine.wraps.psd_wrap(q1)\n",
    "\n",
    "# Create the cvxpy problem:\n",
    "# Define the variables\n",
    "x = Variable(len(r1))\n",
    "\n",
    "# Define the constraints\n",
    "constraints = [\n",
    "               0 <= x, \n",
    "               sum(x) == 1,\n",
    "               0.5*quad_form(x, q1) + (r1.T @ x) <= 0]\n",
    "\n",
    "# Define the objective function\n",
    "objective = Minimize(0.5*quad_form(x, q0) + r0.T @ x)\n",
    "\n",
    "# Set up dictionary for option setting\n",
    "nag_params = {'SOCP System Formulation':'AS',\n",
    "              'SOCP Factorization Method':'MA86'\n",
    "              }\n",
    "\n",
    "# Define the problem\n",
    "prob = Problem(objective, constraints)\n",
    "\n",
    "# Solve the problem using NAG\n",
    "prob.solve(solver=NAG, nag_params=nag_params)"
   ]
  }
 ],
 "metadata": {
  "kernelspec": {
   "display_name": "Python 3 (ipykernel)",
   "language": "python",
   "name": "python3"
  },
  "language_info": {
   "codemirror_mode": {
    "name": "ipython",
    "version": 3
   },
   "file_extension": ".py",
   "mimetype": "text/x-python",
   "name": "python",
   "nbconvert_exporter": "python",
   "pygments_lexer": "ipython3",
   "version": "3.10.8"
  }
 },
 "nbformat": 4,
 "nbformat_minor": 5
}
