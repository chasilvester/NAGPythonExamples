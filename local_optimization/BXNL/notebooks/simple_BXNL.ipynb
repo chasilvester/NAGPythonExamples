{
 "cells": [
  {
   "cell_type": "markdown",
   "metadata": {},
   "source": [
    "# Installing the NAG library and running this notebook\n",
    "\n",
    "This notebook depends on the NAG library for Python to run. Please read the instructions in the [Readme.md](https://github.com/numericalalgorithmsgroup/NAGPythonExamples/blob/master/local_optimization/Readme.md#install) file to download, install and obtain a licence for the library.\n",
    "\n",
    "Instruction on how to run the notebook can be found [here](https://github.com/numericalalgorithmsgroup/NAGPythonExamples/blob/master/local_optimization/Readme.md#jupyter)."
   ]
  },
  {
   "cell_type": "markdown",
   "metadata": {},
   "source": [
    "# Simple Nonlinear Least-Squares Fitting Example\n",
    "\n",
    "This example demontrates how to fit data to a model using weighted nonlinear least-squares. \n",
    "\n",
    "**handle_solve_bxnl** (`e04gg`) is a bound-constrained nonlinear least squares trust region solver (BXNL) from the NAG optimization modelling suite aimed for small to medium-scale problems. It solves the problem:\n",
    "\n",
    "$$\n",
    "\\begin{array}{ll}\n",
    "{\\underset{x \\in \\mathbb{R}^{n_{\\text{var}}}}{minimize}\\ } & \n",
    "\\frac{1}{2} \\sum_{i=1}^{n_{\\text{res}}} w_i r_i(x)^2 + \\frac{\\sigma}{p}\\|x\\|^p_2\\\\\n",
    "\\text{subject to} & l_{x} \\leq x \\leq u_{x}\n",
    "\\end{array}\n",
    "$$\n",
    "\n",
    "\n",
    "where $r_i(x),i=1,\\dots,n_{\\text{res}}$, are smooth nonlinear functions called residuals, $w_i ,i=1,\\dots,n_{\\text{res}}$ are weights (by default they are all defined to 1, and the rightmost element represents the regularization term with parameter $\\sigma\\geq0$ and power $p>0$. The constraint elements $l_x$ and $u_x$ are $n_{\\text{var}}$-dimensional vectors defining the bounds on the variables.\n",
    "\n",
    "Typically in a calibration or data fitting context, the residuals will be defined as the difference between the observed values $y_i$ at $t_i$ and the values provided by a nonlinear model $\\phi(t;x)$, i.e., $$r_i(x)≔y_i-\\phi(t_i;x).$$"
   ]
  },
  {
   "cell_type": "markdown",
   "metadata": {},
   "source": [
    "The following example illustrates the usage of `e04gg` to fit PADC target with $\\alpha$ particle\n",
    "etched nuclear track data to a convoluted distribution. A target\n",
    "sheet is scanned and track diameters (red wedges in\n",
    "the following Figure 1) are recorded into a histogram and a mixed Normal and log-Normal model is to be fitted to the experimental histogram (see Figure 2).\n",
    "![PADC](../images/tracks.png)\n"
   ]
  },
  {
   "cell_type": "markdown",
   "metadata": {},
   "source": [
    "**Figure 1**: PADC with etched $\\alpha$ particle tracks."
   ]
  },
  {
   "cell_type": "markdown",
   "metadata": {},
   "source": [
    "`e04gg` is used to fit the six parameter model\n",
    "$$\n",
    "\\begin{array}{ll}\n",
    "\\phi\\big(t, x = (a, b, A_{\\ell}, \\mu, \\sigma, A_g)\\big) = \\text{log-Normal}(a, b, A_l) + \\text{Normal}(\\mu, \\sigma^2, A_g)\\\\\n",
    "\\text{subject to } 0 \\leq x,\n",
    "\\end{array}$$\n",
    "using the histogram heights reported in Figure 2."
   ]
  },
  {
   "cell_type": "code",
   "execution_count": 1,
   "metadata": {},
   "outputs": [],
   "source": [
    "import numpy as np\n",
    "import math\n",
    "import matplotlib.pyplot as plt\n",
    "from naginterfaces.base import utils\n",
    "from naginterfaces.library import opt\n",
    "\n",
    "# problem data\n",
    "# number of observations\n",
    "nres = 64\n",
    "# observations\n",
    "diameter = range(1, nres+1)\n",
    "density = [\n",
    "     0.0722713864, 0.0575221239, 0.0604719764, 0.0405604720, 0.0317109145, \n",
    "     0.0309734513, 0.0258112094, 0.0228613569, 0.0213864307, 0.0213864307,\n",
    "     0.0147492625, 0.0213864307, 0.0243362832, 0.0169616519, 0.0095870206,\n",
    "     0.0147492625, 0.0140117994, 0.0132743363, 0.0147492625, 0.0140117994,\n",
    "     0.0140117994, 0.0132743363, 0.0117994100, 0.0132743363, 0.0110619469,\n",
    "     0.0103244838, 0.0117994100, 0.0117994100, 0.0147492625, 0.0110619469,\n",
    "     0.0132743363, 0.0206489676, 0.0169616519, 0.0169616519, 0.0280235988,\n",
    "     0.0221238938, 0.0235988201, 0.0221238938, 0.0206489676, 0.0228613569,\n",
    "     0.0184365782, 0.0176991150, 0.0132743363, 0.0132743363, 0.0088495575,\n",
    "     0.0095870206, 0.0073746313, 0.0110619469, 0.0036873156, 0.0051622419,\n",
    "     0.0058997050, 0.0014749263, 0.0022123894, 0.0029498525, 0.0014749263,\n",
    "     0.0007374631, 0.0014749263, 0.0014749263, 0.0007374631, 0.0000000000,\n",
    "     0.0000000000, 0.0000000000, 0.0000000000, 0.0000000000\n",
    "     ]\n",
    "\n",
    "# Define the data structure to be passed to the callback functions\n",
    "data = {'d': diameter, 'y': density}"
   ]
  },
  {
   "cell_type": "code",
   "execution_count": 2,
   "metadata": {},
   "outputs": [
    {
     "data": {
      "image/png": "[encoded data removed]",
      "text/plain": [
       "<Figure size 432x288 with 1 Axes>"
      ]
     },
     "metadata": {
      "needs_background": "light"
     },
     "output_type": "display_data"
    }
   ],
   "source": [
    "# Plot histogram of PADC etch track diameter count (densities)\n",
    "dh = np.arange(1, 10*nres+9)/10.0\n",
    "fig = plt.figure()\n",
    "ax = fig.add_subplot(111)\n",
    "ax.set_title('PADC etch track diameter histogram', fontsize=16)\n",
    "ax.set_xlabel('Diameter (nm)')\n",
    "ax.set_ylabel('Density')\n",
    "ax.set_xlim(xmin=1, xmax=65)\n",
    "ax.bar(diameter, data['y'], color='lightsteelblue')\n",
    "ax.grid()\n",
    "plt.show()"
   ]
  },
  {
   "cell_type": "markdown",
   "metadata": {},
   "source": [
    "**Figure 2**: Histogram of etched track diameter of $\\alpha$ particles. Bar heights are the data that will be fitted unsing the aggregated model $\\phi(x, t)$. "
   ]
  },
  {
   "cell_type": "code",
   "execution_count": 3,
   "metadata": {},
   "outputs": [],
   "source": [
    "# Define Normal and log-Normal distributions\n",
    "def lognormal(d, a, b, Al):\n",
    "    return Al/(d*b*np.sqrt(2*math.pi))*np.exp(-((np.log(d)-a)**2)/(2*b**2))\n",
    "\n",
    "def gaussian(d, mu, sigma, Ag):\n",
    "    return Ag*np.exp(-0.5*((d-mu)/sigma)**2)/(sigma*np.sqrt(2*math.pi))"
   ]
  },
  {
   "cell_type": "markdown",
   "metadata": {},
   "source": [
    "In terms of solving this problem, the function to minimize is the sum of residuals using the model $\\phi(x;t)$\n",
    "and the data pair (`diameter`, `density`). The parameter vector is $x = (a, b, A_l, \\mu, \\sigma, A_g)$. The next step is to define a function to return the residual vector \n",
    "$\\text{lsqfun}(x) := \\big[r_1(x), r_2(x), \\dots, r_{n_{\\text{res}}}(x)\\big]$."
   ]
  },
  {
   "cell_type": "code",
   "execution_count": 4,
   "metadata": {},
   "outputs": [],
   "source": [
    "# Define the least-square function as a mixture of Normal and log-Normal \n",
    "# functions. Also add its first derivatives\n",
    "def lsqfun(x, nres, inform, data):\n",
    "    \"\"\"\n",
    "    Objective function callback passed to the least squares solver.\n",
    "    x = (a, b, Al, mu, sigma, Ag)\n",
    "    \"\"\"\n",
    "    rx = np.zeros(nres)\n",
    "    d = data['d']\n",
    "    y = data['y']\n",
    "    a = x[0]\n",
    "    b = x[1]\n",
    "    Al = x[2]\n",
    "    mu = x[3]\n",
    "    sigma = x[4]\n",
    "    Ag = x[5]\n",
    "    for i in range(nres):\n",
    "        rx[i] = lognormal(d[i], a, b, Al) + gaussian(d[i], mu, sigma, Ag) - y[i]\n",
    "    return rx, inform\n",
    "\n",
    "def lsqgrd(x, nres, rdx, inform, data):\n",
    "    \"\"\"\n",
    "    Computes the Jacobian of the least square residuals.\n",
    "    x = (a, b, Al, mu, sigma, Ag)\n",
    "    \"\"\"\n",
    "    n = len(x)\n",
    "    d = data['d']\n",
    "    a = x[0]\n",
    "    b = x[1]\n",
    "    Al = x[2]\n",
    "    mu = x[3]\n",
    "    sigma = x[4]\n",
    "    Ag = x[5]\n",
    "    for i in range(nres):\n",
    "        # log-Normal derivatives\n",
    "        l = lognormal(d[i], a, b, Al)\n",
    "        # dl/da\n",
    "        rdx[i*n+0] = (np.log(d[i])-a)/(b**2) * l\n",
    "        # dl/db\n",
    "        rdx[i*n+1] = ((np.log(d[i])-a)**2 - b**2)/b**3 * l\n",
    "        # dl/dAl\n",
    "        rdx[i*n+2] = lognormal(d[i], a, b, 1.0)\n",
    "        # Gaussian derivatives\n",
    "        g = gaussian(d[i], mu, sigma, Ag)\n",
    "        # dg/dmu\n",
    "        rdx[i*n+3] = (d[i] - mu) / sigma**2 * g\n",
    "        # dg/dsigma\n",
    "        rdx[i*n+4] = ((d[i] - mu)**2 - sigma**2)/sigma**3 * g\n",
    "        # dg/dAg\n",
    "        rdx[i*n+5] = gaussian(d[i], mu, sigma, 1.0)\n",
    "    return rdx, inform"
   ]
  },
  {
   "cell_type": "code",
   "execution_count": 5,
   "metadata": {},
   "outputs": [],
   "source": [
    "# parameter vector: x = (a, b, Al, mu, sigma, Ag)\n",
    "nvar = 6"
   ]
  },
  {
   "cell_type": "code",
   "execution_count": 6,
   "metadata": {},
   "outputs": [],
   "source": [
    "# Initialize the model handle\n",
    "handle = opt.handle_init(nvar)\n",
    "\n",
    "# Define a dense nonlinear least-squares objective function\n",
    "opt.handle_set_nlnls(handle, nres)"
   ]
  },
  {
   "cell_type": "code",
   "execution_count": 7,
   "metadata": {},
   "outputs": [
    {
     "data": {
      "text/plain": [
       "HandleSetGetRealReturnData(lrarr=64, rarr=None)"
      ]
     },
     "execution_count": 7,
     "metadata": {},
     "output_type": "execute_result"
    }
   ],
   "source": [
    "# Add weights for each residual\n",
    "weights = np.ones(nres)\n",
    "weights[55:63] = 5.0\n",
    "weights /= weights.sum()\n",
    "\n",
    "# Define the reliability of the measurements (weights)\n",
    "opt.handle_set_get_real(handle, 'rw', rarr=weights)"
   ]
  },
  {
   "cell_type": "code",
   "execution_count": 8,
   "metadata": {},
   "outputs": [],
   "source": [
    "# Restrict parameter space (0 <= x)\n",
    "opt.handle_set_simplebounds(handle, np.zeros(nvar), 100.0*np.ones(nvar))"
   ]
  },
  {
   "cell_type": "code",
   "execution_count": 9,
   "metadata": {},
   "outputs": [],
   "source": [
    "# Set some optional parameters to control the output of the solver\n",
    "for option in [\n",
    "        'Print Options = NO',\n",
    "        'Print Level = 1',\n",
    "        'Print Solution = X',\n",
    "        'Bxnl Iteration Limit = 100',\n",
    "        'Bxnl Use weights = YES',\n",
    "        # Add cubic regularization term (avoid overfitting)\n",
    "        'Bxnl Reg Order = 3',\n",
    "        'Bxnl Glob Method = REG',\n",
    "]:\n",
    "    opt.handle_opt_set(handle, option)\n",
    "\n",
    "# Use an explicit I/O manager for abbreviated iteration output:\n",
    "iom = utils.FileObjManager(locus_in_output=False)"
   ]
  },
  {
   "cell_type": "code",
   "execution_count": 10,
   "metadata": {},
   "outputs": [],
   "source": [
    "# Define initial guess (starting point)\n",
    "x = np.array([1.63, 0.88, 1.0, 30, 1.52, 0.24], dtype=float)"
   ]
  },
  {
   "cell_type": "markdown",
   "metadata": {},
   "source": [
    "Call the solver"
   ]
  },
  {
   "cell_type": "code",
   "execution_count": 11,
   "metadata": {},
   "outputs": [
    {
     "name": "stdout",
     "output_type": "stream",
     "text": [
      " E04GG, Nonlinear least squares method for bound-constrained problems\n",
      " Status: converged, an optimal solution was found\n",
      " Value of the objective             4.44211E-08\n",
      " Norm of projected gradient         1.18757E-09\n",
      " Norm of scaled projected gradient  3.98428E-06\n",
      " Norm of step                       1.66812E-01\n",
      "\n",
      " Primal variables:\n",
      "   idx   Lower bound       Value       Upper bound\n",
      "     1   0.00000E+00    2.02043E+00    1.00000E+02\n",
      "     2   0.00000E+00    1.39726E+00    1.00000E+02\n",
      "     3   0.00000E+00    6.93255E-01    1.00000E+02\n",
      "     4   0.00000E+00    3.65929E+01    1.00000E+02\n",
      "     5   0.00000E+00    7.01808E+00    1.00000E+02\n",
      "     6   0.00000E+00    3.36877E-01    1.00000E+02\n"
     ]
    }
   ],
   "source": [
    "# Call the solver\n",
    "slv = opt.handle_solve_bxnl(handle, lsqfun, lsqgrd, x, nres, data=data, io_manager=iom)"
   ]
  },
  {
   "cell_type": "markdown",
   "metadata": {},
   "source": [
    "The optimal solution $x$ provides the unfolded parameters for the two distributions, Normal and log-Normal (blue and red curves in Figure 4). Adding these together produces the aggragated curve (shown in color green of Figure 3 and 4) this last one is the one used to perform the fitting with. The optimal solution is"
   ]
  },
  {
   "cell_type": "code",
   "execution_count": 12,
   "metadata": {},
   "outputs": [],
   "source": [
    "# Optimal parameter values\n",
    "# Al * log-Normal(a, b):\n",
    "aopt = slv.x[0]\n",
    "bopt = slv.x[1]\n",
    "Alopt = slv.x[2]\n",
    "\n",
    "# Ag * gaussian(mu, sigma):\n",
    "muopt = slv.x[3]\n",
    "sigmaopt = slv.x[4]\n",
    "Agopt = slv.x[5]"
   ]
  },
  {
   "cell_type": "markdown",
   "metadata": {},
   "source": [
    "and the objective function value is "
   ]
  },
  {
   "cell_type": "code",
   "execution_count": 13,
   "metadata": {},
   "outputs": [
    {
     "name": "stdout",
     "output_type": "stream",
     "text": [
      "4.4421102582032486e-08\n"
     ]
    }
   ],
   "source": [
    "print(slv.rinfo[0])"
   ]
  },
  {
   "cell_type": "markdown",
   "metadata": {},
   "source": [
    "The next plot in Figure 3 illustrates the mixed-distribution fit over the histogram:\n"
   ]
  },
  {
   "cell_type": "code",
   "execution_count": 14,
   "metadata": {
    "scrolled": true
   },
   "outputs": [
    {
     "data": {
      "image/png": "[encoded data removed]",
      "text/plain": [
       "<Figure size 432x288 with 1 Axes>"
      ]
     },
     "metadata": {
      "needs_background": "light"
     },
     "output_type": "display_data"
    }
   ],
   "source": [
    "lopt = lognormal(dh, aopt, bopt, Alopt)\n",
    "gopt = gaussian(dh, muopt, sigmaopt, Agopt)\n",
    "w = lopt + gopt\n",
    "fig = plt.figure()\n",
    "ax = fig.add_subplot(111)\n",
    "ax.set_title('PADC etch track diameter histogram and fit', fontsize=16)\n",
    "ax.set_xlabel('Diameter (nm)')\n",
    "ax.set_ylabel('Density')\n",
    "ax.set_xlim(xmin=1, xmax=65)\n",
    "ax.bar(diameter, data['y'], color='lightsteelblue')\n",
    "ax.plot(dh, w, '-', linewidth=3, color='tab:green')\n",
    "ax.grid()\n",
    "ax.legend(['Aggregated', 'Measured track diameter density'])\n",
    "plt.show()"
   ]
  },
  {
   "cell_type": "markdown",
   "metadata": {},
   "source": [
    "**Figure 3**: Histogram with aggregated fit.\n",
    "\n",
    "The plot below in Figure 4 shows the unfolded fit, in red the log-Normal distribution and blue the Normal one:"
   ]
  },
  {
   "cell_type": "code",
   "execution_count": 15,
   "metadata": {
    "scrolled": true
   },
   "outputs": [
    {
     "data": {
      "image/png": "[encoded data removed]",
      "text/plain": [
       "<Figure size 432x288 with 1 Axes>"
      ]
     },
     "metadata": {
      "needs_background": "light"
     },
     "output_type": "display_data"
    }
   ],
   "source": [
    "fig = plt.figure()\n",
    "ax = fig.add_subplot(111)\n",
    "ax.set_title('PADC etch track diameter histogram unfolding', fontsize=16)\n",
    "ax.set_xlabel('Diameter (nm)')\n",
    "ax.set_ylabel('Density')\n",
    "ax.set_xlim(xmin=1, xmax=65)\n",
    "ax.bar(diameter, data['y'], color='lightsteelblue')\n",
    "ax.plot(dh, lopt, '-', linewidth=4, color='tab:red')\n",
    "ax.plot(dh, gopt, '-', linewidth=4, color='tab:blue')\n",
    "ax.plot(dh, w, '-', linewidth=3, color='tab:green')\n",
    "ax.grid()\n",
    "glab = 'Unfolded Normal($\\\\mu=%1.2f$, $\\\\sigma=%1.2f, A=%1.2f$)' % (muopt, sigmaopt, Agopt)\n",
    "llab = 'Unfolded log-Normal($a=%1.2f$, $b=%1.2f, A=%1.2f$)' % (aopt, bopt, Alopt)\n",
    "ax.legend([llab, glab, 'Aggregated', 'Measured track diameter density'])\n",
    "plt.show()"
   ]
  },
  {
   "cell_type": "markdown",
   "metadata": {},
   "source": [
    "**Figure 4**: Aggregated model used for the fitting (green curve) and unfolded models (blue and red curves).\n",
    "Optimal parameter values are ported in the legend."
   ]
  },
  {
   "cell_type": "markdown",
   "metadata": {},
   "source": [
    "Finally, clean up and destroy the handle"
   ]
  },
  {
   "cell_type": "code",
   "execution_count": 16,
   "metadata": {},
   "outputs": [],
   "source": [
    "# Destroy the handle:\n",
    "opt.handle_free(handle)"
   ]
  }
 ],
 "metadata": {
  "kernelspec": {
   "display_name": "Python 3",
   "language": "python",
   "name": "python3"
  },
  "language_info": {
   "codemirror_mode": {
    "name": "ipython",
    "version": 3
   },
   "file_extension": ".py",
   "mimetype": "text/x-python",
   "name": "python",
   "nbconvert_exporter": "python",
   "pygments_lexer": "ipython3",
   "version": "3.8.5"
  },
  "latex_envs": {
   "LaTeX_envs_menu_present": true,
   "autoclose": false,
   "autocomplete": true,
   "bibliofile": "biblio.bib",
   "cite_by": "apalike",
   "current_citInitial": 1,
   "eqLabelWithNumbers": true,
   "eqNumInitial": 1,
   "hotkeys": {
    "equation": "Ctrl-E",
    "itemize": "Ctrl-I"
   },
   "labels_anchors": false,
   "latex_user_defs": false,
   "report_style_numbering": false,
   "user_envs_cfg": false
  }
 },
 "nbformat": 4,
 "nbformat_minor": 2
}