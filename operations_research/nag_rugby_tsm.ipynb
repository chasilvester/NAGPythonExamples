{
 "cells": [
  {
   "cell_type": "markdown",
   "metadata": {},
   "source": [
    "## Rugby World Cup Venues - Travelling Salesman Problem\n",
    "\n",
    "We have a file containing distances (in metres) and times (in seconds) to cycle between various stadiums in the UK, all of which have been used to host matches in the Rugby World Cup. The file is stored in \"tab separated value\" (tsv) format. We want to find the best way to travel between all the stadiums in the list. By \"best\", we mean either shortest distance, or shortest time."
   ]
  },
  {
   "cell_type": "markdown",
   "metadata": {},
   "source": [
    "<em>Acknowledgements: this notebook was inspired by work of Randy Olson; his code to find the shortest path for a road trip across the USA can be found at his Github page [here](http://nbviewer.ipython.org/github/rhiever/Data-Analysis-and-Machine-Learning-Projects/blob/master/optimal-road-trip/Computing%20the%20optimal%20road%20trip%20across%20the%20U.S..ipynb). The first version of this NAG notebook was created by John Muddle.</em>"
   ]
  },
  {
   "cell_type": "markdown",
   "metadata": {},
   "source": [
    "First of all we define the various stadiums:"
   ]
  },
  {
   "cell_type": "code",
   "execution_count": 1,
   "metadata": {},
   "outputs": [],
   "source": [
    "all_stadiums = [\"Brighton community stadium, UK\", \n",
    "                \"City of Manchester Stadium, Ashton New Road, Manchester\",\n",
    "                \"Elland Road, UK\",\n",
    "                \"King Power Stadium, Filbert Way, Leicester\",\n",
    "                \"Kingsholm Stadium, Kingsholm Road, Gloucester\",\n",
    "                \"Millennium Stadium, Westgate Street, Cardiff\",\n",
    "                \"Sandy Park Stadium, Exeter\",\n",
    "                \"St. James' Park, Barrack Road, Newcastle upon Tyne\",\n",
    "                \"Stadium MK, Grafton Street, Bletchley\",\n",
    "                \"The Stadium, Queen Elizabeth Olympic Park\",\n",
    "                \"Twickenham Stadium, Whitton Road, Twickenham\",\n",
    "                \"Villa Park, Trinity Road, Birmingham\",\n",
    "                \"Wembley Stadium, Wembley\"]"
   ]
  },
  {
   "cell_type": "markdown",
   "metadata": {},
   "source": [
    "Then we load distance and time data from a file, using a routine from pandas, a Python data analysis library. The file is stored in \"tab separated value\" (tsv) format. The distances and times in the file were calculated using Google maps."
   ]
  },
  {
   "cell_type": "code",
   "execution_count": 2,
   "metadata": {},
   "outputs": [],
   "source": [
    "import pandas as pn\n",
    "stadium_data = pn.read_csv(\"my-rugby-bike-stadiums-dist-dur.tsv\", sep=\"\\t\")"
   ]
  },
  {
   "cell_type": "markdown",
   "metadata": {},
   "source": [
    "Let's take a look at the contents of the file. Since we have n=13 stadiums, and the file needs to contain distances between every pair of stadiums, the file contains 12+11+10+...+1 = n*(n-1)/2 = 78 lines."
   ]
  },
  {
   "cell_type": "code",
   "execution_count": 3,
   "metadata": {},
   "outputs": [
    {
     "data": {
      "text/html": [
       "<div>\n",
       "<style scoped>\n",
       "    .dataframe tbody tr th:only-of-type {\n",
       "        vertical-align: middle;\n",
       "    }\n",
       "\n",
       "    .dataframe tbody tr th {\n",
       "        vertical-align: top;\n",
       "    }\n",
       "\n",
       "    .dataframe thead th {\n",
       "        text-align: right;\n",
       "    }\n",
       "</style>\n",
       "<table border=\"1\" class=\"dataframe\">\n",
       "  <thead>\n",
       "    <tr style=\"text-align: right;\">\n",
       "      <th></th>\n",
       "      <th>stadium1</th>\n",
       "      <th>stadium2</th>\n",
       "      <th>distance_m</th>\n",
       "      <th>duration_s</th>\n",
       "    </tr>\n",
       "  </thead>\n",
       "  <tbody>\n",
       "    <tr>\n",
       "      <th>0</th>\n",
       "      <td>Brighton community stadium, UK</td>\n",
       "      <td>King Power Stadium, Filbert Way, Leicester</td>\n",
       "      <td>280176</td>\n",
       "      <td>52420</td>\n",
       "    </tr>\n",
       "    <tr>\n",
       "      <th>1</th>\n",
       "      <td>Brighton community stadium, UK</td>\n",
       "      <td>Sandy Park Stadium, Exeter</td>\n",
       "      <td>313295</td>\n",
       "      <td>62141</td>\n",
       "    </tr>\n",
       "    <tr>\n",
       "      <th>2</th>\n",
       "      <td>Brighton community stadium, UK</td>\n",
       "      <td>St. James' Park, Barrack Road, Newcastle upon ...</td>\n",
       "      <td>622834</td>\n",
       "      <td>116360</td>\n",
       "    </tr>\n",
       "    <tr>\n",
       "      <th>3</th>\n",
       "      <td>Brighton community stadium, UK</td>\n",
       "      <td>Stadium MK, Grafton Street, Bletchley</td>\n",
       "      <td>184675</td>\n",
       "      <td>34481</td>\n",
       "    </tr>\n",
       "    <tr>\n",
       "      <th>4</th>\n",
       "      <td>Brighton community stadium, UK</td>\n",
       "      <td>Twickenham Stadium, Whitton Road, Twickenham</td>\n",
       "      <td>106895</td>\n",
       "      <td>20637</td>\n",
       "    </tr>\n",
       "    <tr>\n",
       "      <th>...</th>\n",
       "      <td>...</td>\n",
       "      <td>...</td>\n",
       "      <td>...</td>\n",
       "      <td>...</td>\n",
       "    </tr>\n",
       "    <tr>\n",
       "      <th>73</th>\n",
       "      <td>Wembley Stadium, Wembley</td>\n",
       "      <td>Sandy Park Stadium, Exeter</td>\n",
       "      <td>327375</td>\n",
       "      <td>62045</td>\n",
       "    </tr>\n",
       "    <tr>\n",
       "      <th>74</th>\n",
       "      <td>Wembley Stadium, Wembley</td>\n",
       "      <td>St. James' Park, Barrack Road, Newcastle upon ...</td>\n",
       "      <td>512945</td>\n",
       "      <td>96107</td>\n",
       "    </tr>\n",
       "    <tr>\n",
       "      <th>75</th>\n",
       "      <td>Wembley Stadium, Wembley</td>\n",
       "      <td>Stadium MK, Grafton Street, Bletchley</td>\n",
       "      <td>75540</td>\n",
       "      <td>13953</td>\n",
       "    </tr>\n",
       "    <tr>\n",
       "      <th>76</th>\n",
       "      <td>Wembley Stadium, Wembley</td>\n",
       "      <td>Twickenham Stadium, Whitton Road, Twickenham</td>\n",
       "      <td>16002</td>\n",
       "      <td>3315</td>\n",
       "    </tr>\n",
       "    <tr>\n",
       "      <th>77</th>\n",
       "      <td>Wembley Stadium, Wembley</td>\n",
       "      <td>Villa Park, Trinity Road, Birmingham</td>\n",
       "      <td>205027</td>\n",
       "      <td>37293</td>\n",
       "    </tr>\n",
       "  </tbody>\n",
       "</table>\n",
       "<p>78 rows × 4 columns</p>\n",
       "</div>"
      ],
      "text/plain": [
       "                          stadium1  \\\n",
       "0   Brighton community stadium, UK   \n",
       "1   Brighton community stadium, UK   \n",
       "2   Brighton community stadium, UK   \n",
       "3   Brighton community stadium, UK   \n",
       "4   Brighton community stadium, UK   \n",
       "..                             ...   \n",
       "73        Wembley Stadium, Wembley   \n",
       "74        Wembley Stadium, Wembley   \n",
       "75        Wembley Stadium, Wembley   \n",
       "76        Wembley Stadium, Wembley   \n",
       "77        Wembley Stadium, Wembley   \n",
       "\n",
       "                                             stadium2  distance_m  duration_s  \n",
       "0          King Power Stadium, Filbert Way, Leicester      280176       52420  \n",
       "1                          Sandy Park Stadium, Exeter      313295       62141  \n",
       "2   St. James' Park, Barrack Road, Newcastle upon ...      622834      116360  \n",
       "3               Stadium MK, Grafton Street, Bletchley      184675       34481  \n",
       "4        Twickenham Stadium, Whitton Road, Twickenham      106895       20637  \n",
       "..                                                ...         ...         ...  \n",
       "73                         Sandy Park Stadium, Exeter      327375       62045  \n",
       "74  St. James' Park, Barrack Road, Newcastle upon ...      512945       96107  \n",
       "75              Stadium MK, Grafton Street, Bletchley       75540       13953  \n",
       "76       Twickenham Stadium, Whitton Road, Twickenham       16002        3315  \n",
       "77               Villa Park, Trinity Road, Birmingham      205027       37293  \n",
       "\n",
       "[78 rows x 4 columns]"
      ]
     },
     "execution_count": 3,
     "metadata": {},
     "output_type": "execute_result"
    }
   ],
   "source": [
    "stadium_data"
   ]
  },
  {
   "cell_type": "markdown",
   "metadata": {},
   "source": [
    "Create matrices containing distances and times, for input to the NAG function"
   ]
  },
  {
   "cell_type": "code",
   "execution_count": 4,
   "metadata": {},
   "outputs": [],
   "source": [
    "import numpy as np\n",
    "distance_matrix = np.zeros((len(all_stadiums), len(all_stadiums)))\n",
    "duration_matrix = np.zeros((len(all_stadiums), len(all_stadiums)))\n",
    "for index, row in stadium_data.iterrows():\n",
    "    distance_matrix[all_stadiums.index(row['stadium1'])][all_stadiums.index(row['stadium2'])] = row['distance_m']\n",
    "    distance_matrix[all_stadiums.index(row['stadium2'])][all_stadiums.index(row['stadium1'])] = row['distance_m']\n",
    "    duration_matrix[all_stadiums.index(row['stadium1'])][all_stadiums.index(row['stadium2'])] = row['duration_s']\n",
    "    duration_matrix[all_stadiums.index(row['stadium2'])][all_stadiums.index(row['stadium1'])] = row['duration_s']"
   ]
  },
  {
   "cell_type": "markdown",
   "metadata": {},
   "source": [
    "Setup the NAG solver mip.tsp_simann\n",
    "\n",
    "Function tsp_simann requires a randomly generated state to initalise; we use rand.init_repeat to define this state."
   ]
  },
  {
   "cell_type": "code",
   "execution_count": 5,
   "metadata": {},
   "outputs": [],
   "source": [
    "from naginterfaces.library import rand\n",
    "statecomm = rand.init_repeat(genid=2, seed=[304950, 889934, 209094, 23423990], subid=53)"
   ]
  },
  {
   "cell_type": "markdown",
   "metadata": {},
   "source": [
    "Find the optimal path using mip.tsp_simann. We call the function twice, once to find optimal distance, and once to find optimal time."
   ]
  },
  {
   "cell_type": "code",
   "execution_count": 6,
   "metadata": {},
   "outputs": [
    {
     "name": "stdout",
     "output_type": "stream",
     "text": [
      "[ 1  7  6  5 12  2  8  3  4  9 13 11 10]\n",
      "[ 1 10 11 13  9  4  8  3  2 12  5  6  7]\n"
     ]
    }
   ],
   "source": [
    "from naginterfaces.library import mip\n",
    "soln_distance = mip.tsp_simann(dm=distance_matrix, bound=-1.0, targc=-1.0, statecomm=statecomm)\n",
    "soln_duration = mip.tsp_simann(dm=duration_matrix, bound=-1.0, targc=-1.0, statecomm=statecomm)\n",
    "print(soln_distance.path)\n",
    "print(soln_duration.path)"
   ]
  },
  {
   "cell_type": "markdown",
   "metadata": {},
   "source": [
    "The desired paths are stored in the integer list \"path\" of the tuple returned by mip.tsp_simann. We convert from the returned paths to the corresponding stadiums"
   ]
  },
  {
   "cell_type": "code",
   "execution_count": 7,
   "metadata": {},
   "outputs": [],
   "source": [
    "optimal_path_distance = []\n",
    "optimal_path_duration = []\n",
    "for i in soln_distance.path:\n",
    "    optimal_path_distance.append(all_stadiums[i-1])\n",
    "for i in soln_duration.path:\n",
    "    optimal_path_duration.append(all_stadiums[i-1])"
   ]
  },
  {
   "cell_type": "markdown",
   "metadata": {},
   "source": [
    "And print the results"
   ]
  },
  {
   "cell_type": "code",
   "execution_count": 8,
   "metadata": {},
   "outputs": [
    {
     "name": "stdout",
     "output_type": "stream",
     "text": [
      "This is the shortest path by distance, of 1793.38 kilometres:\n",
      "['Brighton community stadium, UK', 'Sandy Park Stadium, Exeter', 'Millennium Stadium, Westgate Street, Cardiff', 'Kingsholm Stadium, Kingsholm Road, Gloucester', 'Villa Park, Trinity Road, Birmingham', 'City of Manchester Stadium, Ashton New Road, Manchester', \"St. James' Park, Barrack Road, Newcastle upon Tyne\", 'Elland Road, UK', 'King Power Stadium, Filbert Way, Leicester', 'Stadium MK, Grafton Street, Bletchley', 'Wembley Stadium, Wembley', 'Twickenham Stadium, Whitton Road, Twickenham', 'The Stadium, Queen Elizabeth Olympic Park']\n"
     ]
    }
   ],
   "source": [
    "print('This is the shortest path by distance, of {:4.2f} kilometres:'.format(soln_distance.cost/1000))\n",
    "print(optimal_path_distance)"
   ]
  },
  {
   "cell_type": "code",
   "execution_count": 9,
   "metadata": {},
   "outputs": [
    {
     "name": "stdout",
     "output_type": "stream",
     "text": [
      "This is the shortest path by time, of 96.06 hours:\n",
      "['Brighton community stadium, UK', 'The Stadium, Queen Elizabeth Olympic Park', 'Twickenham Stadium, Whitton Road, Twickenham', 'Wembley Stadium, Wembley', 'Stadium MK, Grafton Street, Bletchley', 'King Power Stadium, Filbert Way, Leicester', \"St. James' Park, Barrack Road, Newcastle upon Tyne\", 'Elland Road, UK', 'City of Manchester Stadium, Ashton New Road, Manchester', 'Villa Park, Trinity Road, Birmingham', 'Kingsholm Stadium, Kingsholm Road, Gloucester', 'Millennium Stadium, Westgate Street, Cardiff', 'Sandy Park Stadium, Exeter']\n"
     ]
    }
   ],
   "source": [
    "print('This is the shortest path by time, of {:4.2f} hours:'.format(soln_duration.cost/3600))\n",
    "print(optimal_path_duration)"
   ]
  }
 ],
 "metadata": {
  "kernelspec": {
   "display_name": "Python 3 (ipykernel)",
   "language": "python",
   "name": "python3"
  },
  "language_info": {
   "codemirror_mode": {
    "name": "ipython",
    "version": 3
   },
   "file_extension": ".py",
   "mimetype": "text/x-python",
   "name": "python",
   "nbconvert_exporter": "python",
   "pygments_lexer": "ipython3",
   "version": "3.8.10"
  }
 },
 "nbformat": 4,
 "nbformat_minor": 1
}
